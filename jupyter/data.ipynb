{
 "metadata": {
  "language_info": {
   "codemirror_mode": {
    "name": "ipython",
    "version": 3
   },
   "file_extension": ".py",
   "mimetype": "text/x-python",
   "name": "python",
   "nbconvert_exporter": "python",
   "pygments_lexer": "ipython3",
   "version": "3.8.8-final"
  },
  "orig_nbformat": 2,
  "kernelspec": {
   "name": "python3",
   "display_name": "Python 3.8.8 64-bit",
   "metadata": {
    "interpreter": {
     "hash": "ff8de34bd55ce89c24a02bb5f8933c96a616593bab0f0523600693a6c3645b7f"
    }
   }
  }
 },
 "nbformat": 4,
 "nbformat_minor": 2,
 "cells": [
  {
   "cell_type": "code",
   "execution_count": 1,
   "metadata": {},
   "outputs": [],
   "source": [
    "from selenium.webdriver import Chrome, ChromeOptions\n",
    "from bs4 import BeautifulSoup\n",
    "\n",
    "\n",
    "# chromedriver下载地址 https://chromedriver.storage.googleapis.com/index.html\n",
    "# chromedriver版本需要和本地chrome浏览器版本保持大版本一致。\n",
    "chrome_driver = '/Users/xingweidong/envs/selenium/webdriver/chrome/88.0.4324.96/chromedriver'\n",
    "chrome_options = ChromeOptions()\n",
    "chrome_options.add_argument('headless')  # 启用静默模式，不打开浏览器窗口\n",
    "url = 'http://data.eastmoney.com/stockdata/{}.html'.format('600031')\n",
    "soup = None\n",
    "with Chrome(executable_path=chrome_driver, options=chrome_options) as driver:\n",
    "    driver.get(url)\n",
    "    html = driver.page_source\n",
    "    soup = BeautifulSoup(html, 'lxml')"
   ]
  },
  {
   "cell_type": "code",
   "execution_count": 2,
   "metadata": {},
   "outputs": [
    {
     "output_type": "execute_result",
     "data": {
      "text/plain": [
       "{'plate': 'HS300_ MSCI中国 QFII重仓 北京板块 标准普尔 参股银行 富时罗素 工业4.0 工业互联 沪股通 基金重仓 机械行业 军工 军民融合 融资融券 上证180_ 上证50_ 一带一路 证金持股',\n",
       " 'business_cope': '建筑工程机械、起重机械、停车库、通用设备及机电设备的生产、销售与维修(其中特种设备制造须凭本企业行政许可);金属制品、橡胶制品及电子产品、钢丝增强液压橡胶软管和软管组合件的生产、销售;客车(不含小轿车)和改装车的制造与销售(凭审批机关许可文件经营);五金及法律法规允许的矿产品、金属材料的销售;提供建筑工程机械租赁服务;经营商品和技术的进出口业务(国家法律法规禁止和限制的除外)。'}"
      ]
     },
     "metadata": {},
     "execution_count": 2
    }
   ],
   "source": [
    "tags = soup.find('div', 'hxtc-content').find_all('p')[:2]\n",
    "data = {'plate': tags[0].contents[2], 'business_cope': tags[1].contents[2]}\n",
    "data"
   ]
  },
  {
   "cell_type": "code",
   "execution_count": 9,
   "metadata": {},
   "outputs": [
    {
     "output_type": "execute_result",
     "data": {
      "text/plain": [
       "'三一重工'"
      ]
     },
     "metadata": {},
     "execution_count": 9
    }
   ],
   "source": [
    "name = soup.find(id='name').contents[0]\n",
    "name"
   ]
  },
  {
   "cell_type": "code",
   "execution_count": null,
   "metadata": {},
   "outputs": [],
   "source": []
  }
 ]
}